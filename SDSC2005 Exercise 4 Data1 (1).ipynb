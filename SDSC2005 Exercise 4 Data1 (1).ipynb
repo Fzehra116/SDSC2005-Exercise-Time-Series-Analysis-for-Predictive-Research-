{
 "cells": [
  {
   "cell_type": "markdown",
   "id": "42b54c2e",
   "metadata": {},
   "source": [
    "# Intraday"
   ]
  },
  {
   "cell_type": "code",
   "execution_count": 1,
   "id": "23fcf1f7",
   "metadata": {},
   "outputs": [],
   "source": [
    "import pandas as pd\n",
    "Intraday = pd.DataFrame()\n",
    "Intraday = pd.read_excel('DATA1 EX 4.xlsx', sheet_name = 'Intraday_data')"
   ]
  },
  {
   "cell_type": "code",
   "execution_count": 2,
   "id": "27c39f2b",
   "metadata": {},
   "outputs": [
    {
     "data": {
      "text/html": [
       "<div>\n",
       "<style scoped>\n",
       "    .dataframe tbody tr th:only-of-type {\n",
       "        vertical-align: middle;\n",
       "    }\n",
       "\n",
       "    .dataframe tbody tr th {\n",
       "        vertical-align: top;\n",
       "    }\n",
       "\n",
       "    .dataframe thead th {\n",
       "        text-align: right;\n",
       "    }\n",
       "</style>\n",
       "<table border=\"1\" class=\"dataframe\">\n",
       "  <thead>\n",
       "    <tr style=\"text-align: right;\">\n",
       "      <th></th>\n",
       "      <th>Datetime</th>\n",
       "      <th>HSI_Price</th>\n",
       "      <th>Date</th>\n",
       "      <th>Time</th>\n",
       "      <th>9:30 - 9:59</th>\n",
       "      <th>10:00 - 10:29</th>\n",
       "      <th>10:30 - 10:59</th>\n",
       "      <th>11:00 - 11:29</th>\n",
       "      <th>11:30 - 12:05</th>\n",
       "      <th>13:00 - 13:29</th>\n",
       "      <th>13:30 - 13:59</th>\n",
       "      <th>14:00 - 14:29</th>\n",
       "      <th>14:30 - 14:59</th>\n",
       "      <th>15:00 - 15:29</th>\n",
       "      <th>15:30 - 15:59</th>\n",
       "    </tr>\n",
       "  </thead>\n",
       "  <tbody>\n",
       "    <tr>\n",
       "      <th>0</th>\n",
       "      <td>2023-01-16 09:30</td>\n",
       "      <td>21830.23047</td>\n",
       "      <td>2023-01-16</td>\n",
       "      <td>09:30:00</td>\n",
       "      <td>1</td>\n",
       "      <td>0</td>\n",
       "      <td>0</td>\n",
       "      <td>0</td>\n",
       "      <td>0</td>\n",
       "      <td>0</td>\n",
       "      <td>0</td>\n",
       "      <td>0</td>\n",
       "      <td>0</td>\n",
       "      <td>0</td>\n",
       "      <td>0</td>\n",
       "    </tr>\n",
       "    <tr>\n",
       "      <th>1</th>\n",
       "      <td>2023-01-16 09:31</td>\n",
       "      <td>21871.35938</td>\n",
       "      <td>2023-01-16</td>\n",
       "      <td>09:31:00</td>\n",
       "      <td>1</td>\n",
       "      <td>0</td>\n",
       "      <td>0</td>\n",
       "      <td>0</td>\n",
       "      <td>0</td>\n",
       "      <td>0</td>\n",
       "      <td>0</td>\n",
       "      <td>0</td>\n",
       "      <td>0</td>\n",
       "      <td>0</td>\n",
       "      <td>0</td>\n",
       "    </tr>\n",
       "    <tr>\n",
       "      <th>2</th>\n",
       "      <td>2023-01-16 09:32</td>\n",
       "      <td>21854.58008</td>\n",
       "      <td>2023-01-16</td>\n",
       "      <td>09:32:00</td>\n",
       "      <td>1</td>\n",
       "      <td>0</td>\n",
       "      <td>0</td>\n",
       "      <td>0</td>\n",
       "      <td>0</td>\n",
       "      <td>0</td>\n",
       "      <td>0</td>\n",
       "      <td>0</td>\n",
       "      <td>0</td>\n",
       "      <td>0</td>\n",
       "      <td>0</td>\n",
       "    </tr>\n",
       "    <tr>\n",
       "      <th>3</th>\n",
       "      <td>2023-01-16 09:33</td>\n",
       "      <td>21831.43945</td>\n",
       "      <td>2023-01-16</td>\n",
       "      <td>09:33:00</td>\n",
       "      <td>1</td>\n",
       "      <td>0</td>\n",
       "      <td>0</td>\n",
       "      <td>0</td>\n",
       "      <td>0</td>\n",
       "      <td>0</td>\n",
       "      <td>0</td>\n",
       "      <td>0</td>\n",
       "      <td>0</td>\n",
       "      <td>0</td>\n",
       "      <td>0</td>\n",
       "    </tr>\n",
       "    <tr>\n",
       "      <th>4</th>\n",
       "      <td>2023-01-16 09:34</td>\n",
       "      <td>21831.41016</td>\n",
       "      <td>2023-01-16</td>\n",
       "      <td>09:34:00</td>\n",
       "      <td>1</td>\n",
       "      <td>0</td>\n",
       "      <td>0</td>\n",
       "      <td>0</td>\n",
       "      <td>0</td>\n",
       "      <td>0</td>\n",
       "      <td>0</td>\n",
       "      <td>0</td>\n",
       "      <td>0</td>\n",
       "      <td>0</td>\n",
       "      <td>0</td>\n",
       "    </tr>\n",
       "  </tbody>\n",
       "</table>\n",
       "</div>"
      ],
      "text/plain": [
       "           Datetime    HSI_Price       Date      Time  9:30 - 9:59  \\\n",
       "0  2023-01-16 09:30  21830.23047 2023-01-16  09:30:00            1   \n",
       "1  2023-01-16 09:31  21871.35938 2023-01-16  09:31:00            1   \n",
       "2  2023-01-16 09:32  21854.58008 2023-01-16  09:32:00            1   \n",
       "3  2023-01-16 09:33  21831.43945 2023-01-16  09:33:00            1   \n",
       "4  2023-01-16 09:34  21831.41016 2023-01-16  09:34:00            1   \n",
       "\n",
       "   10:00 - 10:29  10:30 - 10:59  11:00 - 11:29  11:30 - 12:05  13:00 - 13:29  \\\n",
       "0              0              0              0              0              0   \n",
       "1              0              0              0              0              0   \n",
       "2              0              0              0              0              0   \n",
       "3              0              0              0              0              0   \n",
       "4              0              0              0              0              0   \n",
       "\n",
       "   13:30 - 13:59  14:00 - 14:29  14:30 - 14:59  15:00 - 15:29  15:30 - 15:59  \n",
       "0              0              0              0              0              0  \n",
       "1              0              0              0              0              0  \n",
       "2              0              0              0              0              0  \n",
       "3              0              0              0              0              0  \n",
       "4              0              0              0              0              0  "
      ]
     },
     "execution_count": 2,
     "metadata": {},
     "output_type": "execute_result"
    }
   ],
   "source": [
    "Intraday.head()"
   ]
  },
  {
   "cell_type": "code",
   "execution_count": 3,
   "id": "4666708a",
   "metadata": {},
   "outputs": [
    {
     "data": {
      "text/plain": [
       "Datetime         0\n",
       "HSI_Price        0\n",
       "Date             0\n",
       "Time             0\n",
       "9:30 - 9:59      0\n",
       "10:00 - 10:29    0\n",
       "10:30 - 10:59    0\n",
       "11:00 - 11:29    0\n",
       "11:30 - 12:05    0\n",
       "13:00 - 13:29    0\n",
       "13:30 - 13:59    0\n",
       "14:00 - 14:29    0\n",
       "14:30 - 14:59    0\n",
       "15:00 - 15:29    0\n",
       "15:30 - 15:59    0\n",
       "dtype: int64"
      ]
     },
     "execution_count": 3,
     "metadata": {},
     "output_type": "execute_result"
    }
   ],
   "source": [
    "Intraday.isnull().sum()"
   ]
  },
  {
   "cell_type": "code",
   "execution_count": 4,
   "id": "cc85dc53",
   "metadata": {},
   "outputs": [],
   "source": [
    "Intraday['Datetime'] = pd.to_datetime(Intraday['Datetime'])\n",
    "Intraday = Intraday.set_index(Intraday['Datetime'])"
   ]
  },
  {
   "cell_type": "code",
   "execution_count": 5,
   "id": "33773f15",
   "metadata": {},
   "outputs": [
    {
     "data": {
      "text/plain": [
       "<AxesSubplot:xlabel='Datetime'>"
      ]
     },
     "execution_count": 5,
     "metadata": {},
     "output_type": "execute_result"
    },
    {
     "data": {
      "image/png": "[encoded data removed]",
      "text/plain": [
       "<Figure size 720x360 with 1 Axes>"
      ]
     },
     "metadata": {
      "needs_background": "light"
     },
     "output_type": "display_data"
    }
   ],
   "source": [
    "Intraday[['HSI_Price']].plot( figsize=[10,5])"
   ]
  },
  {
   "cell_type": "code",
   "execution_count": 6,
   "id": "e0d6f59d",
   "metadata": {},
   "outputs": [],
   "source": [
    "#from scipy import signal\n",
    "\n",
    "#detrended = signal.detrend(Intraday.HSI_Price)\n",
    "\n",
    "#import numpy as np\n",
    "#detrended_df = np.array(detrended)\n",
    "#Intraday['detrended'] = detrended_df\n"
   ]
  },
  {
   "cell_type": "code",
   "execution_count": 7,
   "id": "c1c9156e",
   "metadata": {},
   "outputs": [],
   "source": [
    "import numpy as np\n",
    "x_values = [i for i in range(0, len(Intraday))]\n",
    "x_values = np.reshape(x_values, (len(x_values), 1))\n",
    "#x_values = Intraday[['9:30 - 9:59', '10:00 - 10:29', '10:30 - 10:59', '11:00 - 11:29', '11:30 - 12:05', \n",
    "                     #'13:00 - 13:29', '13:30 - 13:59', '14:00 - 14:29', '14:30 - 14:59', '15:00 - 15:29', '15:30 - 15:59']].values\n",
    "y_values = Intraday['HSI_Price'].values"
   ]
  },
  {
   "cell_type": "code",
   "execution_count": 8,
   "id": "8a616e65",
   "metadata": {},
   "outputs": [
    {
     "data": {
      "text/plain": [
       "[<matplotlib.lines.Line2D at 0x29465bd0550>]"
      ]
     },
     "execution_count": 8,
     "metadata": {},
     "output_type": "execute_result"
    },
    {
     "data": {
      "image/png": "[encoded data removed]",
      "text/plain": [
       "<Figure size 432x288 with 1 Axes>"
      ]
     },
     "metadata": {
      "needs_background": "light"
     },
     "output_type": "display_data"
    }
   ],
   "source": [
    "from sklearn.preprocessing import PolynomialFeatures\n",
    "from sklearn.linear_model import LinearRegression\n",
    "from sklearn.metrics import mean_squared_error\n",
    "\n",
    "\n",
    "import matplotlib.pyplot as plt\n",
    "number_degrees = [1,2,3,4,5,6,7,8]\n",
    "plt_mean_squared_error = []\n",
    "for degree in number_degrees:\n",
    "\n",
    "   poly_model = PolynomialFeatures(degree=degree)\n",
    "  \n",
    "   poly_x_values = poly_model.fit_transform(x_values)\n",
    "   poly_model.fit(poly_x_values, y_values)\n",
    "  \n",
    "   regression_model = LinearRegression()\n",
    "   regression_model.fit(poly_x_values, y_values)\n",
    "   y_pred = regression_model.predict(poly_x_values)\n",
    "  \n",
    "   plt_mean_squared_error.append(mean_squared_error(y_values, y_pred, squared=False))\n",
    "  \n",
    "plt.scatter(number_degrees,plt_mean_squared_error, color=\"green\")\n",
    "plt.plot(number_degrees,plt_mean_squared_error, color=\"red\") "
   ]
  },
  {
   "cell_type": "code",
   "execution_count": 9,
   "id": "90d4f007",
   "metadata": {},
   "outputs": [],
   "source": [
    "poly_model = PolynomialFeatures(degree = 6)\n",
    "\n",
    "poly_x_values = poly_model.fit_transform(x_values)\n"
   ]
  },
  {
   "cell_type": "code",
   "execution_count": 10,
   "id": "e8581d33",
   "metadata": {},
   "outputs": [
    {
     "name": "stdout",
     "output_type": "stream",
     "text": [
      "0.7732558226322825\n"
     ]
    }
   ],
   "source": [
    "regression_model = LinearRegression()\n",
    "\n",
    "fit = regression_model.fit(poly_x_values, y_values)\n",
    "\n",
    "y_pred = regression_model.predict(poly_x_values)\n",
    "\n",
    "print(regression_model.score(poly_x_values, y_values))"
   ]
  },
  {
   "cell_type": "code",
   "execution_count": 11,
   "id": "40962be1",
   "metadata": {},
   "outputs": [
    {
     "data": {
      "image/png": "[encoded data removed]",
      "text/plain": [
       "<Figure size 432x288 with 1 Axes>"
      ]
     },
     "metadata": {
      "needs_background": "light"
     },
     "output_type": "display_data"
    }
   ],
   "source": [
    "plt.plot(x_values, y_values)\n",
    "plt.plot(x_values, y_pred)\n",
    "plt.legend(['data', 'polynomial trend'])\n",
    "plt.show()"
   ]
  },
  {
   "cell_type": "code",
   "execution_count": 12,
   "id": "2d73b363",
   "metadata": {},
   "outputs": [
    {
     "data": {
      "image/png": "[encoded data removed]",
      "text/plain": [
       "<Figure size 432x288 with 1 Axes>"
      ]
     },
     "metadata": {
      "needs_background": "light"
     },
     "output_type": "display_data"
    }
   ],
   "source": [
    "detrpoly = [y_values[i] - y_pred[i] for i in range(0, len(y_values))]\n",
    "plt.plot(x_values, detrpoly)\n",
    "plt.title('polynomially detrended data')\n",
    "plt.show()"
   ]
  },
  {
   "cell_type": "code",
   "execution_count": 13,
   "id": "91ae1b57",
   "metadata": {},
   "outputs": [
    {
     "name": "stdout",
     "output_type": "stream",
     "text": [
      "r2: 0.7732558226322825\n",
      "rmse 206.3221289361742\n"
     ]
    }
   ],
   "source": [
    "from sklearn.metrics import mean_squared_error, r2_score\n",
    "r2 = r2_score(y_values, y_pred)\n",
    "rmse = np.sqrt(mean_squared_error(y_values, y_pred))\n",
    "print('r2:', r2)\n",
    "print('rmse', rmse)"
   ]
  },
  {
   "cell_type": "code",
   "execution_count": 14,
   "id": "2d08b35a",
   "metadata": {},
   "outputs": [],
   "source": [
    "Intraday['Price'] = detrpoly"
   ]
  },
  {
   "cell_type": "code",
   "execution_count": 15,
   "id": "52835875",
   "metadata": {},
   "outputs": [
    {
     "name": "stdout",
     "output_type": "stream",
     "text": [
      "                            OLS Regression Results                            \n",
      "==============================================================================\n",
      "Dep. Variable:                  Price   R-squared:                       0.002\n",
      "Model:                            OLS   Adj. R-squared:                 -0.000\n",
      "Method:                 Least Squares   F-statistic:                    0.8471\n",
      "Date:                Sun, 12 Mar 2023   Prob (F-statistic):              0.593\n",
      "Time:                        14:25:32   Log-Likelihood:                -40722.\n",
      "No. Observations:                6035   AIC:                         8.147e+04\n",
      "Df Residuals:                    6023   BIC:                         8.155e+04\n",
      "Df Model:                          11                                         \n",
      "Covariance Type:            nonrobust                                         \n",
      "=================================================================================\n",
      "                    coef    std err          t      P>|t|      [0.025      0.975]\n",
      "---------------------------------------------------------------------------------\n",
      "const            -2.0714     24.321     -0.085      0.932     -49.749      45.606\n",
      "9:30 - 9:59       9.2223     25.914      0.356      0.722     -41.579      60.024\n",
      "10:00 - 10:29     8.4759     25.944      0.327      0.744     -42.383      59.335\n",
      "10:30 - 10:59    -0.6191     25.891     -0.024      0.981     -51.375      50.137\n",
      "11:00 - 11:29    -5.9140     25.900     -0.228      0.819     -56.687      44.859\n",
      "11:30 - 12:05    -1.9270     25.673     -0.075      0.940     -52.255      48.401\n",
      "13:00 - 13:29   -10.7858     25.944     -0.416      0.678     -61.645      40.073\n",
      "13:30 - 13:59    -4.8851     25.891     -0.189      0.850     -55.641      45.871\n",
      "14:00 - 14:29     2.7371     25.891      0.106      0.916     -48.019      53.493\n",
      "14:30 - 14:59    -0.9629     25.944     -0.037      0.970     -51.822      49.896\n",
      "15:00 - 15:29     9.1340     25.891      0.353      0.724     -41.622      59.890\n",
      "15:30 - 15:59    19.0610     25.897      0.736      0.462     -31.706      69.828\n",
      "==============================================================================\n",
      "Omnibus:                      334.273   Durbin-Watson:                   0.005\n",
      "Prob(Omnibus):                  0.000   Jarque-Bera (JB):              128.236\n",
      "Skew:                          -0.036   Prob(JB):                     1.43e-28\n",
      "Kurtosis:                       2.290   Cond. No.                         33.3\n",
      "==============================================================================\n",
      "\n",
      "Notes:\n",
      "[1] Standard Errors assume that the covariance matrix of the errors is correctly specified.\n"
     ]
    }
   ],
   "source": [
    "import statsmodels.api as sm\n",
    "\n",
    "x = Intraday.drop(['Price', 'HSI_Price', 'Datetime', 'Datetime', 'Date', 'Time'], axis=1)\n",
    "y = Intraday['Price']\n",
    "\n",
    "x = sm.add_constant(x)\n",
    "\n",
    "model = sm.OLS(y, x).fit()\n",
    "\n",
    "print(model.summary())"
   ]
  },
  {
   "cell_type": "code",
   "execution_count": 16,
   "id": "3abfb24d",
   "metadata": {},
   "outputs": [
    {
     "data": {
      "text/plain": [
       "21705.407997701135"
      ]
     },
     "execution_count": 16,
     "metadata": {},
     "output_type": "execute_result"
    }
   ],
   "source": [
    "import warnings\n",
    "warnings.filterwarnings('ignore')\n",
    "Intraday.loc[Intraday['13:00 - 13:29'] == 1].mean()[0]"
   ]
  },
  {
   "cell_type": "code",
   "execution_count": 17,
   "id": "f4322e11",
   "metadata": {},
   "outputs": [
    {
     "data": {
      "text/plain": [
       "21733.68871919175"
      ]
     },
     "execution_count": 17,
     "metadata": {},
     "output_type": "execute_result"
    }
   ],
   "source": [
    "Intraday.loc[Intraday['9:30 - 9:59'] == 1].mean()[0]"
   ]
  },
  {
   "cell_type": "code",
   "execution_count": 18,
   "id": "91e297e7",
   "metadata": {},
   "outputs": [
    {
     "data": {
      "text/plain": [
       "1.0013029343421513"
      ]
     },
     "execution_count": 18,
     "metadata": {},
     "output_type": "execute_result"
    }
   ],
   "source": [
    "Intraday.loc[Intraday['9:30 - 9:59'] == 1].mean()[0]/Intraday.loc[Intraday['13:00 - 13:29'] == 1].mean()[0]"
   ]
  },
  {
   "cell_type": "markdown",
   "id": "777b9578",
   "metadata": {},
   "source": [
    "# Interday (Day)"
   ]
  },
  {
   "cell_type": "code",
   "execution_count": 55,
   "id": "adccce49",
   "metadata": {},
   "outputs": [],
   "source": [
    "Interday1 = pd.DataFrame()\n",
    "Interday1 = pd.read_excel('DATA1 EX 4.xlsx', sheet_name = 'Interday_data')\n",
    "Interday1 = Interday1[['Date','Price']]"
   ]
  },
  {
   "cell_type": "code",
   "execution_count": 56,
   "id": "96c62e30",
   "metadata": {},
   "outputs": [
    {
     "data": {
      "text/html": [
       "<div>\n",
       "<style scoped>\n",
       "    .dataframe tbody tr th:only-of-type {\n",
       "        vertical-align: middle;\n",
       "    }\n",
       "\n",
       "    .dataframe tbody tr th {\n",
       "        vertical-align: top;\n",
       "    }\n",
       "\n",
       "    .dataframe thead th {\n",
       "        text-align: right;\n",
       "    }\n",
       "</style>\n",
       "<table border=\"1\" class=\"dataframe\">\n",
       "  <thead>\n",
       "    <tr style=\"text-align: right;\">\n",
       "      <th></th>\n",
       "      <th>Date</th>\n",
       "      <th>Price</th>\n",
       "    </tr>\n",
       "  </thead>\n",
       "  <tbody>\n",
       "    <tr>\n",
       "      <th>0</th>\n",
       "      <td>1987-01-02</td>\n",
       "      <td>2540.100098</td>\n",
       "    </tr>\n",
       "    <tr>\n",
       "      <th>1</th>\n",
       "      <td>1987-01-05</td>\n",
       "      <td>2552.399902</td>\n",
       "    </tr>\n",
       "    <tr>\n",
       "      <th>2</th>\n",
       "      <td>1987-01-06</td>\n",
       "      <td>2583.899902</td>\n",
       "    </tr>\n",
       "    <tr>\n",
       "      <th>3</th>\n",
       "      <td>1987-01-07</td>\n",
       "      <td>2607.100098</td>\n",
       "    </tr>\n",
       "    <tr>\n",
       "      <th>4</th>\n",
       "      <td>1987-01-08</td>\n",
       "      <td>2603.300049</td>\n",
       "    </tr>\n",
       "  </tbody>\n",
       "</table>\n",
       "</div>"
      ],
      "text/plain": [
       "        Date        Price\n",
       "0 1987-01-02  2540.100098\n",
       "1 1987-01-05  2552.399902\n",
       "2 1987-01-06  2583.899902\n",
       "3 1987-01-07  2607.100098\n",
       "4 1987-01-08  2603.300049"
      ]
     },
     "execution_count": 56,
     "metadata": {},
     "output_type": "execute_result"
    }
   ],
   "source": [
    "Interday1.head()"
   ]
  },
  {
   "cell_type": "code",
   "execution_count": 57,
   "id": "cabd17da",
   "metadata": {},
   "outputs": [
    {
     "data": {
      "text/plain": [
       "Date       0\n",
       "Price    251\n",
       "dtype: int64"
      ]
     },
     "execution_count": 57,
     "metadata": {},
     "output_type": "execute_result"
    }
   ],
   "source": [
    "Interday1.isnull().sum()"
   ]
  },
  {
   "cell_type": "code",
   "execution_count": 58,
   "id": "226e363e",
   "metadata": {},
   "outputs": [],
   "source": [
    "Interday1 = Interday1.interpolate(method='linear', axis=0, limit=None)"
   ]
  },
  {
   "cell_type": "code",
   "execution_count": 59,
   "id": "69b98a26",
   "metadata": {},
   "outputs": [
    {
     "data": {
      "text/plain": [
       "Date     0\n",
       "Price    0\n",
       "dtype: int64"
      ]
     },
     "execution_count": 59,
     "metadata": {},
     "output_type": "execute_result"
    }
   ],
   "source": [
    "Interday1.isnull().sum()"
   ]
  },
  {
   "cell_type": "code",
   "execution_count": 60,
   "id": "78e598a3",
   "metadata": {},
   "outputs": [
    {
     "data": {
      "text/html": [
       "<div>\n",
       "<style scoped>\n",
       "    .dataframe tbody tr th:only-of-type {\n",
       "        vertical-align: middle;\n",
       "    }\n",
       "\n",
       "    .dataframe tbody tr th {\n",
       "        vertical-align: top;\n",
       "    }\n",
       "\n",
       "    .dataframe thead th {\n",
       "        text-align: right;\n",
       "    }\n",
       "</style>\n",
       "<table border=\"1\" class=\"dataframe\">\n",
       "  <thead>\n",
       "    <tr style=\"text-align: right;\">\n",
       "      <th></th>\n",
       "      <th>Date</th>\n",
       "      <th>Price</th>\n",
       "      <th>detrended</th>\n",
       "    </tr>\n",
       "  </thead>\n",
       "  <tbody>\n",
       "    <tr>\n",
       "      <th>0</th>\n",
       "      <td>1987-01-02</td>\n",
       "      <td>2540.100098</td>\n",
       "      <td>210.999739</td>\n",
       "    </tr>\n",
       "    <tr>\n",
       "      <th>1</th>\n",
       "      <td>1987-01-05</td>\n",
       "      <td>2552.399902</td>\n",
       "      <td>220.454116</td>\n",
       "    </tr>\n",
       "    <tr>\n",
       "      <th>2</th>\n",
       "      <td>1987-01-06</td>\n",
       "      <td>2583.899902</td>\n",
       "      <td>249.108688</td>\n",
       "    </tr>\n",
       "    <tr>\n",
       "      <th>3</th>\n",
       "      <td>1987-01-07</td>\n",
       "      <td>2607.100098</td>\n",
       "      <td>269.463457</td>\n",
       "    </tr>\n",
       "    <tr>\n",
       "      <th>4</th>\n",
       "      <td>1987-01-08</td>\n",
       "      <td>2603.300049</td>\n",
       "      <td>262.817980</td>\n",
       "    </tr>\n",
       "  </tbody>\n",
       "</table>\n",
       "</div>"
      ],
      "text/plain": [
       "        Date        Price   detrended\n",
       "0 1987-01-02  2540.100098  210.999739\n",
       "1 1987-01-05  2552.399902  220.454116\n",
       "2 1987-01-06  2583.899902  249.108688\n",
       "3 1987-01-07  2607.100098  269.463457\n",
       "4 1987-01-08  2603.300049  262.817980"
      ]
     },
     "execution_count": 60,
     "metadata": {},
     "output_type": "execute_result"
    }
   ],
   "source": [
    "from scipy import signal\n",
    "detrended = signal.detrend(Interday1.Price)\n",
    "detrended_df = np.array(detrended)\n",
    "Interday1['detrended'] = detrended_df\n",
    "Interday1.head()"
   ]
  },
  {
   "cell_type": "code",
   "execution_count": 61,
   "id": "673cea63",
   "metadata": {},
   "outputs": [],
   "source": [
    "Interday1 = Interday1.set_index(Interday1['Date'])"
   ]
  },
  {
   "cell_type": "code",
   "execution_count": 96,
   "id": "ebd87357",
   "metadata": {},
   "outputs": [],
   "source": [
    "Interday1['day'] = Interday1.index.dayofweek"
   ]
  },
  {
   "cell_type": "code",
   "execution_count": 97,
   "id": "b63dfd13",
   "metadata": {},
   "outputs": [
    {
     "data": {
      "text/html": [
       "<div>\n",
       "<style scoped>\n",
       "    .dataframe tbody tr th:only-of-type {\n",
       "        vertical-align: middle;\n",
       "    }\n",
       "\n",
       "    .dataframe tbody tr th {\n",
       "        vertical-align: top;\n",
       "    }\n",
       "\n",
       "    .dataframe thead th {\n",
       "        text-align: right;\n",
       "    }\n",
       "</style>\n",
       "<table border=\"1\" class=\"dataframe\">\n",
       "  <thead>\n",
       "    <tr style=\"text-align: right;\">\n",
       "      <th></th>\n",
       "      <th>Price</th>\n",
       "      <th>detrended</th>\n",
       "      <th>day</th>\n",
       "      <th>0</th>\n",
       "      <th>1</th>\n",
       "      <th>2</th>\n",
       "      <th>3</th>\n",
       "      <th>4</th>\n",
       "      <th>5</th>\n",
       "    </tr>\n",
       "    <tr>\n",
       "      <th>Date</th>\n",
       "      <th></th>\n",
       "      <th></th>\n",
       "      <th></th>\n",
       "      <th></th>\n",
       "      <th></th>\n",
       "      <th></th>\n",
       "      <th></th>\n",
       "      <th></th>\n",
       "      <th></th>\n",
       "    </tr>\n",
       "  </thead>\n",
       "  <tbody>\n",
       "    <tr>\n",
       "      <th>1987-01-02</th>\n",
       "      <td>2540.100098</td>\n",
       "      <td>210.999739</td>\n",
       "      <td>4</td>\n",
       "      <td>0</td>\n",
       "      <td>0</td>\n",
       "      <td>0</td>\n",
       "      <td>0</td>\n",
       "      <td>1</td>\n",
       "      <td>0</td>\n",
       "    </tr>\n",
       "    <tr>\n",
       "      <th>1987-01-05</th>\n",
       "      <td>2552.399902</td>\n",
       "      <td>220.454116</td>\n",
       "      <td>0</td>\n",
       "      <td>1</td>\n",
       "      <td>0</td>\n",
       "      <td>0</td>\n",
       "      <td>0</td>\n",
       "      <td>0</td>\n",
       "      <td>0</td>\n",
       "    </tr>\n",
       "    <tr>\n",
       "      <th>1987-01-06</th>\n",
       "      <td>2583.899902</td>\n",
       "      <td>249.108688</td>\n",
       "      <td>1</td>\n",
       "      <td>0</td>\n",
       "      <td>1</td>\n",
       "      <td>0</td>\n",
       "      <td>0</td>\n",
       "      <td>0</td>\n",
       "      <td>0</td>\n",
       "    </tr>\n",
       "    <tr>\n",
       "      <th>1987-01-07</th>\n",
       "      <td>2607.100098</td>\n",
       "      <td>269.463457</td>\n",
       "      <td>2</td>\n",
       "      <td>0</td>\n",
       "      <td>0</td>\n",
       "      <td>1</td>\n",
       "      <td>0</td>\n",
       "      <td>0</td>\n",
       "      <td>0</td>\n",
       "    </tr>\n",
       "    <tr>\n",
       "      <th>1987-01-08</th>\n",
       "      <td>2603.300049</td>\n",
       "      <td>262.817980</td>\n",
       "      <td>3</td>\n",
       "      <td>0</td>\n",
       "      <td>0</td>\n",
       "      <td>0</td>\n",
       "      <td>1</td>\n",
       "      <td>0</td>\n",
       "      <td>0</td>\n",
       "    </tr>\n",
       "    <tr>\n",
       "      <th>...</th>\n",
       "      <td>...</td>\n",
       "      <td>...</td>\n",
       "      <td>...</td>\n",
       "      <td>...</td>\n",
       "      <td>...</td>\n",
       "      <td>...</td>\n",
       "      <td>...</td>\n",
       "      <td>...</td>\n",
       "      <td>...</td>\n",
       "    </tr>\n",
       "    <tr>\n",
       "      <th>2023-02-06</th>\n",
       "      <td>21222.160156</td>\n",
       "      <td>-7176.747417</td>\n",
       "      <td>0</td>\n",
       "      <td>1</td>\n",
       "      <td>0</td>\n",
       "      <td>0</td>\n",
       "      <td>0</td>\n",
       "      <td>0</td>\n",
       "      <td>0</td>\n",
       "    </tr>\n",
       "    <tr>\n",
       "      <th>2023-02-07</th>\n",
       "      <td>21298.699219</td>\n",
       "      <td>-7103.053782</td>\n",
       "      <td>1</td>\n",
       "      <td>0</td>\n",
       "      <td>1</td>\n",
       "      <td>0</td>\n",
       "      <td>0</td>\n",
       "      <td>0</td>\n",
       "      <td>0</td>\n",
       "    </tr>\n",
       "    <tr>\n",
       "      <th>2023-02-08</th>\n",
       "      <td>21283.519531</td>\n",
       "      <td>-7121.078897</td>\n",
       "      <td>2</td>\n",
       "      <td>0</td>\n",
       "      <td>0</td>\n",
       "      <td>1</td>\n",
       "      <td>0</td>\n",
       "      <td>0</td>\n",
       "      <td>0</td>\n",
       "    </tr>\n",
       "    <tr>\n",
       "      <th>2023-02-09</th>\n",
       "      <td>21624.359375</td>\n",
       "      <td>-6783.084481</td>\n",
       "      <td>3</td>\n",
       "      <td>0</td>\n",
       "      <td>0</td>\n",
       "      <td>0</td>\n",
       "      <td>1</td>\n",
       "      <td>0</td>\n",
       "      <td>0</td>\n",
       "    </tr>\n",
       "    <tr>\n",
       "      <th>2023-02-10</th>\n",
       "      <td>21190.419922</td>\n",
       "      <td>-7219.869361</td>\n",
       "      <td>4</td>\n",
       "      <td>0</td>\n",
       "      <td>0</td>\n",
       "      <td>0</td>\n",
       "      <td>0</td>\n",
       "      <td>1</td>\n",
       "      <td>0</td>\n",
       "    </tr>\n",
       "  </tbody>\n",
       "</table>\n",
       "<p>9167 rows × 9 columns</p>\n",
       "</div>"
      ],
      "text/plain": [
       "                   Price    detrended  day  0  1  2  3  4  5\n",
       "Date                                                        \n",
       "1987-01-02   2540.100098   210.999739    4  0  0  0  0  1  0\n",
       "1987-01-05   2552.399902   220.454116    0  1  0  0  0  0  0\n",
       "1987-01-06   2583.899902   249.108688    1  0  1  0  0  0  0\n",
       "1987-01-07   2607.100098   269.463457    2  0  0  1  0  0  0\n",
       "1987-01-08   2603.300049   262.817980    3  0  0  0  1  0  0\n",
       "...                  ...          ...  ... .. .. .. .. .. ..\n",
       "2023-02-06  21222.160156 -7176.747417    0  1  0  0  0  0  0\n",
       "2023-02-07  21298.699219 -7103.053782    1  0  1  0  0  0  0\n",
       "2023-02-08  21283.519531 -7121.078897    2  0  0  1  0  0  0\n",
       "2023-02-09  21624.359375 -6783.084481    3  0  0  0  1  0  0\n",
       "2023-02-10  21190.419922 -7219.869361    4  0  0  0  0  1  0\n",
       "\n",
       "[9167 rows x 9 columns]"
      ]
     },
     "execution_count": 97,
     "metadata": {},
     "output_type": "execute_result"
    }
   ],
   "source": [
    "result = pd.concat([Interday1, pd.get_dummies(Interday1['day'])], axis=1)\n",
    "result.drop(['Date'], axis=1)"
   ]
  },
  {
   "cell_type": "code",
   "execution_count": 98,
   "id": "6a7d1dfe",
   "metadata": {},
   "outputs": [
    {
     "data": {
      "text/plain": [
       "<AxesSubplot:xlabel='Date'>"
      ]
     },
     "execution_count": 98,
     "metadata": {},
     "output_type": "execute_result"
    },
    {
     "data": {
      "image/png": "[encoded data removed]",
      "text/plain": [
       "<Figure size 720x360 with 1 Axes>"
      ]
     },
     "metadata": {
      "needs_background": "light"
     },
     "output_type": "display_data"
    }
   ],
   "source": [
    "result[['Price']].plot( figsize=[10,5])"
   ]
  },
  {
   "cell_type": "code",
   "execution_count": 99,
   "id": "8dddee51",
   "metadata": {},
   "outputs": [],
   "source": [
    "import numpy as np\n",
    "x_values = [i for i in range(0, len(result))]\n",
    "x_values = np.reshape(x_values, (len(x_values), 1))\n",
    "y_values = result['Price'].values"
   ]
  },
  {
   "cell_type": "code",
   "execution_count": 100,
   "id": "88dce635",
   "metadata": {},
   "outputs": [
    {
     "data": {
      "text/plain": [
       "[<matplotlib.lines.Line2D at 0x29468bdd220>]"
      ]
     },
     "execution_count": 100,
     "metadata": {},
     "output_type": "execute_result"
    },
    {
     "data": {
      "image/png": "[encoded data removed]",
      "text/plain": [
       "<Figure size 432x288 with 1 Axes>"
      ]
     },
     "metadata": {
      "needs_background": "light"
     },
     "output_type": "display_data"
    }
   ],
   "source": [
    "from sklearn.preprocessing import PolynomialFeatures\n",
    "from sklearn.linear_model import LinearRegression\n",
    "from sklearn.metrics import mean_squared_error\n",
    "\n",
    "\n",
    "import matplotlib.pyplot as plt\n",
    "number_degrees = [1,2,3,4,5,6,7,8]\n",
    "plt_mean_squared_error = []\n",
    "for degree in number_degrees:\n",
    "\n",
    "   poly_model = PolynomialFeatures(degree=degree)\n",
    "  \n",
    "   poly_x_values = poly_model.fit_transform(x_values)\n",
    "   poly_model.fit(poly_x_values, y_values)\n",
    "  \n",
    "   regression_model = LinearRegression()\n",
    "   regression_model.fit(poly_x_values, y_values)\n",
    "   y_pred = regression_model.predict(poly_x_values)\n",
    "  \n",
    "   plt_mean_squared_error.append(mean_squared_error(y_values, y_pred, squared=False))\n",
    "  \n",
    "plt.scatter(number_degrees,plt_mean_squared_error, color=\"green\")\n",
    "plt.plot(number_degrees,plt_mean_squared_error, color=\"red\") "
   ]
  },
  {
   "cell_type": "code",
   "execution_count": 101,
   "id": "6c1ae526",
   "metadata": {},
   "outputs": [],
   "source": [
    "poly_model = PolynomialFeatures(degree = 5)\n",
    "\n",
    "poly_x_values = poly_model.fit_transform(x_values)\n"
   ]
  },
  {
   "cell_type": "code",
   "execution_count": 102,
   "id": "4639abbf",
   "metadata": {},
   "outputs": [
    {
     "name": "stdout",
     "output_type": "stream",
     "text": [
      "0.8945072246599539\n"
     ]
    }
   ],
   "source": [
    "regression_model = LinearRegression()\n",
    "\n",
    "fit = regression_model.fit(poly_x_values, y_values)\n",
    "\n",
    "y_pred = regression_model.predict(poly_x_values)\n",
    "\n",
    "print(regression_model.score(poly_x_values, y_values))"
   ]
  },
  {
   "cell_type": "code",
   "execution_count": 103,
   "id": "daf9f597",
   "metadata": {},
   "outputs": [
    {
     "data": {
      "image/png": "[encoded data removed]",
      "text/plain": [
       "<Figure size 432x288 with 1 Axes>"
      ]
     },
     "metadata": {
      "needs_background": "light"
     },
     "output_type": "display_data"
    }
   ],
   "source": [
    "plt.plot(x_values, y_values)\n",
    "plt.plot(x_values, y_pred)\n",
    "plt.legend(['data', 'polynomial trend'])\n",
    "plt.show()"
   ]
  },
  {
   "cell_type": "code",
   "execution_count": 104,
   "id": "57380988",
   "metadata": {},
   "outputs": [
    {
     "data": {
      "image/png": "[encoded data removed]",
      "text/plain": [
       "<Figure size 432x288 with 1 Axes>"
      ]
     },
     "metadata": {
      "needs_background": "light"
     },
     "output_type": "display_data"
    }
   ],
   "source": [
    "detrpoly = [y_values[i] - y_pred[i] for i in range(0, len(y_values))]\n",
    "plt.plot(x_values, detrpoly)\n",
    "plt.title('polynomially detrended data')\n",
    "plt.show()"
   ]
  },
  {
   "cell_type": "code",
   "execution_count": 105,
   "id": "dd141558",
   "metadata": {},
   "outputs": [
    {
     "name": "stdout",
     "output_type": "stream",
     "text": [
      "r2: 0.8945072246599539\n",
      "rmse 2631.886067114688\n"
     ]
    }
   ],
   "source": [
    "from sklearn.metrics import mean_squared_error, r2_score\n",
    "r2 = r2_score(y_values, y_pred)\n",
    "rmse = np.sqrt(mean_squared_error(y_values, y_pred))\n",
    "print('r2:', r2)\n",
    "print('rmse', rmse)"
   ]
  },
  {
   "cell_type": "code",
   "execution_count": 106,
   "id": "f8b4d538",
   "metadata": {},
   "outputs": [],
   "source": [
    "result['New_Price'] = detrpoly"
   ]
  },
  {
   "cell_type": "code",
   "execution_count": 107,
   "id": "7bf41d11",
   "metadata": {},
   "outputs": [
    {
     "name": "stdout",
     "output_type": "stream",
     "text": [
      "                            OLS Regression Results                            \n",
      "==============================================================================\n",
      "Dep. Variable:              New_Price   R-squared:                       0.774\n",
      "Model:                            OLS   Adj. R-squared:                  0.774\n",
      "Method:                 Least Squares   F-statistic:                     5227.\n",
      "Date:                Sun, 12 Mar 2023   Prob (F-statistic):               0.00\n",
      "Time:                        15:17:01   Log-Likelihood:                -78386.\n",
      "No. Observations:                9167   AIC:                         1.568e+05\n",
      "Df Residuals:                    9160   BIC:                         1.568e+05\n",
      "Df Model:                           6                                         \n",
      "Covariance Type:            nonrobust                                         \n",
      "==============================================================================\n",
      "                 coef    std err          t      P>|t|      [0.025      0.975]\n",
      "------------------------------------------------------------------------------\n",
      "const       -163.9675    126.804     -1.293      0.196    -412.532      84.597\n",
      "detrended      0.7733      0.004    177.061      0.000       0.765       0.782\n",
      "0            158.2122    129.232      1.224      0.221     -95.111     411.535\n",
      "1            161.3947    129.191      1.249      0.212     -91.848     414.638\n",
      "2            166.5473    129.170      1.289      0.197     -86.654     419.749\n",
      "3            169.0399    129.167      1.309      0.191     -84.156     422.236\n",
      "4            165.7238    129.191      1.283      0.200     -87.519     418.967\n",
      "5           -984.8853    758.817     -1.298      0.194   -2472.335     502.565\n",
      "==============================================================================\n",
      "Omnibus:                     2312.841   Durbin-Watson:                   0.002\n",
      "Prob(Omnibus):                  0.000   Jarque-Bera (JB):             7753.597\n",
      "Skew:                           1.261   Prob(JB):                         0.00\n",
      "Kurtosis:                       6.733   Cond. No.                     4.88e+18\n",
      "==============================================================================\n",
      "\n",
      "Notes:\n",
      "[1] Standard Errors assume that the covariance matrix of the errors is correctly specified.\n",
      "[2] The smallest eigenvalue is 3.44e-27. This might indicate that there are\n",
      "strong multicollinearity problems or that the design matrix is singular.\n"
     ]
    }
   ],
   "source": [
    "import statsmodels.api as sm\n",
    "\n",
    "x = result.drop(['New_Price', 'Price', 'Date', 'day'], axis=1)\n",
    "y = result['New_Price']\n",
    "\n",
    "x = sm.add_constant(x)\n",
    "\n",
    "model = sm.OLS(y, x).fit()\n",
    "\n",
    "print(model.summary())"
   ]
  },
  {
   "cell_type": "code",
   "execution_count": null,
   "id": "cdd99d9c",
   "metadata": {},
   "outputs": [],
   "source": [
    "result.loc[result['3'] == 1].mean()[0]/result.loc[result['5'] == 1].mean()[0]"
   ]
  },
  {
   "cell_type": "markdown",
   "id": "a6ab742d",
   "metadata": {},
   "source": [
    "# Interday (Month)"
   ]
  },
  {
   "cell_type": "code",
   "execution_count": 42,
   "id": "735baac0",
   "metadata": {},
   "outputs": [],
   "source": [
    "Interday2 = pd.DataFrame()\n",
    "Interday2 = pd.read_excel('DATA1 EX 4.xlsx', sheet_name = 'Interday_data')\n",
    "Interday2 = Interday2[['Date','Price']]"
   ]
  },
  {
   "cell_type": "code",
   "execution_count": 43,
   "id": "751da471",
   "metadata": {},
   "outputs": [
    {
     "data": {
      "text/html": [
       "<div>\n",
       "<style scoped>\n",
       "    .dataframe tbody tr th:only-of-type {\n",
       "        vertical-align: middle;\n",
       "    }\n",
       "\n",
       "    .dataframe tbody tr th {\n",
       "        vertical-align: top;\n",
       "    }\n",
       "\n",
       "    .dataframe thead th {\n",
       "        text-align: right;\n",
       "    }\n",
       "</style>\n",
       "<table border=\"1\" class=\"dataframe\">\n",
       "  <thead>\n",
       "    <tr style=\"text-align: right;\">\n",
       "      <th></th>\n",
       "      <th>Date</th>\n",
       "      <th>Price</th>\n",
       "    </tr>\n",
       "  </thead>\n",
       "  <tbody>\n",
       "    <tr>\n",
       "      <th>0</th>\n",
       "      <td>1987-01-02</td>\n",
       "      <td>2540.100098</td>\n",
       "    </tr>\n",
       "    <tr>\n",
       "      <th>1</th>\n",
       "      <td>1987-01-05</td>\n",
       "      <td>2552.399902</td>\n",
       "    </tr>\n",
       "    <tr>\n",
       "      <th>2</th>\n",
       "      <td>1987-01-06</td>\n",
       "      <td>2583.899902</td>\n",
       "    </tr>\n",
       "    <tr>\n",
       "      <th>3</th>\n",
       "      <td>1987-01-07</td>\n",
       "      <td>2607.100098</td>\n",
       "    </tr>\n",
       "    <tr>\n",
       "      <th>4</th>\n",
       "      <td>1987-01-08</td>\n",
       "      <td>2603.300049</td>\n",
       "    </tr>\n",
       "  </tbody>\n",
       "</table>\n",
       "</div>"
      ],
      "text/plain": [
       "        Date        Price\n",
       "0 1987-01-02  2540.100098\n",
       "1 1987-01-05  2552.399902\n",
       "2 1987-01-06  2583.899902\n",
       "3 1987-01-07  2607.100098\n",
       "4 1987-01-08  2603.300049"
      ]
     },
     "execution_count": 43,
     "metadata": {},
     "output_type": "execute_result"
    }
   ],
   "source": [
    "Interday2.head()"
   ]
  },
  {
   "cell_type": "code",
   "execution_count": 44,
   "id": "adbcb180",
   "metadata": {},
   "outputs": [],
   "source": [
    "Interday2 = Interday2.interpolate(method='linear', axis=0, limit=None)"
   ]
  },
  {
   "cell_type": "code",
   "execution_count": 45,
   "id": "bb7aa333",
   "metadata": {},
   "outputs": [],
   "source": [
    "months = [\"Jan\", \"Feb\", \"Mar\", \"Apr\", \"May\", \"Jun\", \"Jul\", \"Aug\", \"Sep\", \"Oct\", \"Nov\", \"Dec\"]\n",
    "for i in range(12):\n",
    "    Interday2[months[i]] = (pd.DatetimeIndex(Interday2['Date']).month == i+1).astype(int)"
   ]
  },
  {
   "cell_type": "code",
   "execution_count": 46,
   "id": "b3b2bde3",
   "metadata": {},
   "outputs": [
    {
     "data": {
      "text/html": [
       "<div>\n",
       "<style scoped>\n",
       "    .dataframe tbody tr th:only-of-type {\n",
       "        vertical-align: middle;\n",
       "    }\n",
       "\n",
       "    .dataframe tbody tr th {\n",
       "        vertical-align: top;\n",
       "    }\n",
       "\n",
       "    .dataframe thead th {\n",
       "        text-align: right;\n",
       "    }\n",
       "</style>\n",
       "<table border=\"1\" class=\"dataframe\">\n",
       "  <thead>\n",
       "    <tr style=\"text-align: right;\">\n",
       "      <th></th>\n",
       "      <th>Date</th>\n",
       "      <th>Price</th>\n",
       "      <th>Jan</th>\n",
       "      <th>Feb</th>\n",
       "      <th>Mar</th>\n",
       "      <th>Apr</th>\n",
       "      <th>May</th>\n",
       "      <th>Jun</th>\n",
       "      <th>Jul</th>\n",
       "      <th>Aug</th>\n",
       "      <th>Sep</th>\n",
       "      <th>Oct</th>\n",
       "      <th>Nov</th>\n",
       "      <th>Dec</th>\n",
       "    </tr>\n",
       "  </thead>\n",
       "  <tbody>\n",
       "    <tr>\n",
       "      <th>0</th>\n",
       "      <td>1987-01-02</td>\n",
       "      <td>2540.100098</td>\n",
       "      <td>1</td>\n",
       "      <td>0</td>\n",
       "      <td>0</td>\n",
       "      <td>0</td>\n",
       "      <td>0</td>\n",
       "      <td>0</td>\n",
       "      <td>0</td>\n",
       "      <td>0</td>\n",
       "      <td>0</td>\n",
       "      <td>0</td>\n",
       "      <td>0</td>\n",
       "      <td>0</td>\n",
       "    </tr>\n",
       "    <tr>\n",
       "      <th>1</th>\n",
       "      <td>1987-01-05</td>\n",
       "      <td>2552.399902</td>\n",
       "      <td>1</td>\n",
       "      <td>0</td>\n",
       "      <td>0</td>\n",
       "      <td>0</td>\n",
       "      <td>0</td>\n",
       "      <td>0</td>\n",
       "      <td>0</td>\n",
       "      <td>0</td>\n",
       "      <td>0</td>\n",
       "      <td>0</td>\n",
       "      <td>0</td>\n",
       "      <td>0</td>\n",
       "    </tr>\n",
       "    <tr>\n",
       "      <th>2</th>\n",
       "      <td>1987-01-06</td>\n",
       "      <td>2583.899902</td>\n",
       "      <td>1</td>\n",
       "      <td>0</td>\n",
       "      <td>0</td>\n",
       "      <td>0</td>\n",
       "      <td>0</td>\n",
       "      <td>0</td>\n",
       "      <td>0</td>\n",
       "      <td>0</td>\n",
       "      <td>0</td>\n",
       "      <td>0</td>\n",
       "      <td>0</td>\n",
       "      <td>0</td>\n",
       "    </tr>\n",
       "    <tr>\n",
       "      <th>3</th>\n",
       "      <td>1987-01-07</td>\n",
       "      <td>2607.100098</td>\n",
       "      <td>1</td>\n",
       "      <td>0</td>\n",
       "      <td>0</td>\n",
       "      <td>0</td>\n",
       "      <td>0</td>\n",
       "      <td>0</td>\n",
       "      <td>0</td>\n",
       "      <td>0</td>\n",
       "      <td>0</td>\n",
       "      <td>0</td>\n",
       "      <td>0</td>\n",
       "      <td>0</td>\n",
       "    </tr>\n",
       "    <tr>\n",
       "      <th>4</th>\n",
       "      <td>1987-01-08</td>\n",
       "      <td>2603.300049</td>\n",
       "      <td>1</td>\n",
       "      <td>0</td>\n",
       "      <td>0</td>\n",
       "      <td>0</td>\n",
       "      <td>0</td>\n",
       "      <td>0</td>\n",
       "      <td>0</td>\n",
       "      <td>0</td>\n",
       "      <td>0</td>\n",
       "      <td>0</td>\n",
       "      <td>0</td>\n",
       "      <td>0</td>\n",
       "    </tr>\n",
       "  </tbody>\n",
       "</table>\n",
       "</div>"
      ],
      "text/plain": [
       "        Date        Price  Jan  Feb  Mar  Apr  May  Jun  Jul  Aug  Sep  Oct  \\\n",
       "0 1987-01-02  2540.100098    1    0    0    0    0    0    0    0    0    0   \n",
       "1 1987-01-05  2552.399902    1    0    0    0    0    0    0    0    0    0   \n",
       "2 1987-01-06  2583.899902    1    0    0    0    0    0    0    0    0    0   \n",
       "3 1987-01-07  2607.100098    1    0    0    0    0    0    0    0    0    0   \n",
       "4 1987-01-08  2603.300049    1    0    0    0    0    0    0    0    0    0   \n",
       "\n",
       "   Nov  Dec  \n",
       "0    0    0  \n",
       "1    0    0  \n",
       "2    0    0  \n",
       "3    0    0  \n",
       "4    0    0  "
      ]
     },
     "execution_count": 46,
     "metadata": {},
     "output_type": "execute_result"
    }
   ],
   "source": [
    "Interday2.head()"
   ]
  },
  {
   "cell_type": "code",
   "execution_count": 47,
   "id": "61b08c7e",
   "metadata": {},
   "outputs": [
    {
     "data": {
      "text/html": [
       "<div>\n",
       "<style scoped>\n",
       "    .dataframe tbody tr th:only-of-type {\n",
       "        vertical-align: middle;\n",
       "    }\n",
       "\n",
       "    .dataframe tbody tr th {\n",
       "        vertical-align: top;\n",
       "    }\n",
       "\n",
       "    .dataframe thead th {\n",
       "        text-align: right;\n",
       "    }\n",
       "</style>\n",
       "<table border=\"1\" class=\"dataframe\">\n",
       "  <thead>\n",
       "    <tr style=\"text-align: right;\">\n",
       "      <th></th>\n",
       "      <th>Date</th>\n",
       "      <th>Price</th>\n",
       "      <th>Jan</th>\n",
       "      <th>Feb</th>\n",
       "      <th>Mar</th>\n",
       "      <th>Apr</th>\n",
       "      <th>May</th>\n",
       "      <th>Jun</th>\n",
       "      <th>Jul</th>\n",
       "      <th>Aug</th>\n",
       "      <th>Sep</th>\n",
       "      <th>Oct</th>\n",
       "      <th>Nov</th>\n",
       "      <th>Dec</th>\n",
       "      <th>detrended</th>\n",
       "    </tr>\n",
       "  </thead>\n",
       "  <tbody>\n",
       "    <tr>\n",
       "      <th>0</th>\n",
       "      <td>1987-01-02</td>\n",
       "      <td>2540.100098</td>\n",
       "      <td>1</td>\n",
       "      <td>0</td>\n",
       "      <td>0</td>\n",
       "      <td>0</td>\n",
       "      <td>0</td>\n",
       "      <td>0</td>\n",
       "      <td>0</td>\n",
       "      <td>0</td>\n",
       "      <td>0</td>\n",
       "      <td>0</td>\n",
       "      <td>0</td>\n",
       "      <td>0</td>\n",
       "      <td>210.999739</td>\n",
       "    </tr>\n",
       "    <tr>\n",
       "      <th>1</th>\n",
       "      <td>1987-01-05</td>\n",
       "      <td>2552.399902</td>\n",
       "      <td>1</td>\n",
       "      <td>0</td>\n",
       "      <td>0</td>\n",
       "      <td>0</td>\n",
       "      <td>0</td>\n",
       "      <td>0</td>\n",
       "      <td>0</td>\n",
       "      <td>0</td>\n",
       "      <td>0</td>\n",
       "      <td>0</td>\n",
       "      <td>0</td>\n",
       "      <td>0</td>\n",
       "      <td>220.454116</td>\n",
       "    </tr>\n",
       "    <tr>\n",
       "      <th>2</th>\n",
       "      <td>1987-01-06</td>\n",
       "      <td>2583.899902</td>\n",
       "      <td>1</td>\n",
       "      <td>0</td>\n",
       "      <td>0</td>\n",
       "      <td>0</td>\n",
       "      <td>0</td>\n",
       "      <td>0</td>\n",
       "      <td>0</td>\n",
       "      <td>0</td>\n",
       "      <td>0</td>\n",
       "      <td>0</td>\n",
       "      <td>0</td>\n",
       "      <td>0</td>\n",
       "      <td>249.108688</td>\n",
       "    </tr>\n",
       "    <tr>\n",
       "      <th>3</th>\n",
       "      <td>1987-01-07</td>\n",
       "      <td>2607.100098</td>\n",
       "      <td>1</td>\n",
       "      <td>0</td>\n",
       "      <td>0</td>\n",
       "      <td>0</td>\n",
       "      <td>0</td>\n",
       "      <td>0</td>\n",
       "      <td>0</td>\n",
       "      <td>0</td>\n",
       "      <td>0</td>\n",
       "      <td>0</td>\n",
       "      <td>0</td>\n",
       "      <td>0</td>\n",
       "      <td>269.463457</td>\n",
       "    </tr>\n",
       "    <tr>\n",
       "      <th>4</th>\n",
       "      <td>1987-01-08</td>\n",
       "      <td>2603.300049</td>\n",
       "      <td>1</td>\n",
       "      <td>0</td>\n",
       "      <td>0</td>\n",
       "      <td>0</td>\n",
       "      <td>0</td>\n",
       "      <td>0</td>\n",
       "      <td>0</td>\n",
       "      <td>0</td>\n",
       "      <td>0</td>\n",
       "      <td>0</td>\n",
       "      <td>0</td>\n",
       "      <td>0</td>\n",
       "      <td>262.817980</td>\n",
       "    </tr>\n",
       "  </tbody>\n",
       "</table>\n",
       "</div>"
      ],
      "text/plain": [
       "        Date        Price  Jan  Feb  Mar  Apr  May  Jun  Jul  Aug  Sep  Oct  \\\n",
       "0 1987-01-02  2540.100098    1    0    0    0    0    0    0    0    0    0   \n",
       "1 1987-01-05  2552.399902    1    0    0    0    0    0    0    0    0    0   \n",
       "2 1987-01-06  2583.899902    1    0    0    0    0    0    0    0    0    0   \n",
       "3 1987-01-07  2607.100098    1    0    0    0    0    0    0    0    0    0   \n",
       "4 1987-01-08  2603.300049    1    0    0    0    0    0    0    0    0    0   \n",
       "\n",
       "   Nov  Dec   detrended  \n",
       "0    0    0  210.999739  \n",
       "1    0    0  220.454116  \n",
       "2    0    0  249.108688  \n",
       "3    0    0  269.463457  \n",
       "4    0    0  262.817980  "
      ]
     },
     "execution_count": 47,
     "metadata": {},
     "output_type": "execute_result"
    }
   ],
   "source": [
    "from scipy import signal\n",
    "detrended = signal.detrend(Interday2.Price)\n",
    "detrended_df = np.array(detrended)\n",
    "Interday2['detrended'] = detrended_df\n",
    "Interday2.head()"
   ]
  },
  {
   "cell_type": "code",
   "execution_count": 48,
   "id": "579f755d",
   "metadata": {},
   "outputs": [
    {
     "name": "stdout",
     "output_type": "stream",
     "text": [
      "                            OLS Regression Results                            \n",
      "==============================================================================\n",
      "Dep. Variable:              New_Price   R-squared:                       0.774\n",
      "Model:                            OLS   Adj. R-squared:                  0.774\n",
      "Method:                 Least Squares   F-statistic:                     2616.\n",
      "Date:                Sun, 12 Mar 2023   Prob (F-statistic):               0.00\n",
      "Time:                        14:29:23   Log-Likelihood:                -78380.\n",
      "No. Observations:                9167   AIC:                         1.568e+05\n",
      "Df Residuals:                    9154   BIC:                         1.569e+05\n",
      "Df Model:                          12                                         \n",
      "Covariance Type:            nonrobust                                         \n",
      "==============================================================================\n",
      "                 coef    std err          t      P>|t|      [0.025      0.975]\n",
      "------------------------------------------------------------------------------\n",
      "const         -0.0058     12.072     -0.000      1.000     -23.670      23.658\n",
      "Jan          111.9173     42.829      2.613      0.009      27.963     195.872\n",
      "Feb           36.8705     45.043      0.819      0.413     -51.423     125.164\n",
      "Mar          -69.8960     42.698     -1.637      0.102    -153.594      13.802\n",
      "Apr          -30.4533     44.374     -0.686      0.493    -117.436      56.529\n",
      "May          -23.8059     43.392     -0.549      0.583    -108.863      61.251\n",
      "Jun          -18.8964     43.441     -0.435      0.664    -104.050      66.257\n",
      "Jul           -7.5857     42.952     -0.177      0.860     -91.780      76.609\n",
      "Aug           -6.8726     42.501     -0.162      0.872     -90.184      76.439\n",
      "Sep          -30.9969     43.533     -0.712      0.476    -116.332      54.338\n",
      "Oct          -45.3407     43.482     -1.043      0.297    -130.576      39.895\n",
      "Nov           35.5134     43.131      0.823      0.410     -49.033     120.060\n",
      "Dec           49.5405     43.261      1.145      0.252     -35.260     134.341\n",
      "detrended      0.7731      0.004    176.842      0.000       0.765       0.782\n",
      "==============================================================================\n",
      "Omnibus:                     2269.021   Durbin-Watson:                   0.002\n",
      "Prob(Omnibus):                  0.000   Jarque-Bera (JB):             7448.396\n",
      "Skew:                           1.245   Prob(JB):                         0.00\n",
      "Kurtosis:                       6.648   Cond. No.                     8.55e+17\n",
      "==============================================================================\n",
      "\n",
      "Notes:\n",
      "[1] Standard Errors assume that the covariance matrix of the errors is correctly specified.\n",
      "[2] The smallest eigenvalue is 1.13e-25. This might indicate that there are\n",
      "strong multicollinearity problems or that the design matrix is singular.\n"
     ]
    }
   ],
   "source": [
    "Interday2['New_Price'] = detrpoly\n",
    "x = Interday2.drop(['New_Price', 'Price', 'Date'], axis=1)\n",
    "y = Interday2['New_Price']\n",
    "\n",
    "x = sm.add_constant(x)\n",
    "\n",
    "model = sm.OLS(y, x).fit()\n",
    "\n",
    "print(model.summary())"
   ]
  },
  {
   "cell_type": "code",
   "execution_count": 49,
   "id": "10e53040",
   "metadata": {},
   "outputs": [
    {
     "data": {
      "text/plain": [
       "1.0145221535668438"
      ]
     },
     "execution_count": 49,
     "metadata": {},
     "output_type": "execute_result"
    }
   ],
   "source": [
    "Interday2.loc[Interday2['Jan'] == 1].mean()[0]/Interday2.loc[Interday2['Mar'] == 1].mean()[0]"
   ]
  },
  {
   "cell_type": "code",
   "execution_count": null,
   "id": "00dea1ef",
   "metadata": {},
   "outputs": [],
   "source": []
  }
 ],
 "metadata": {
  "kernelspec": {
   "display_name": "Python 3",
   "language": "python",
   "name": "python3"
  },
  "language_info": {
   "codemirror_mode": {
    "name": "ipython",
    "version": 3
   },
   "file_extension": ".py",
   "mimetype": "text/x-python",
   "name": "python",
   "nbconvert_exporter": "python",
   "pygments_lexer": "ipython3",
   "version": "3.8.8"
  }
 },
 "nbformat": 4,
 "nbformat_minor": 5
}
